{
 "cells": [
  {
   "cell_type": "markdown",
   "id": "dacf74e6",
   "metadata": {},
   "source": [
    "# NumPy"
   ]
  },
  {
   "cell_type": "markdown",
   "id": "01b2bf34",
   "metadata": {},
   "source": [
    "Read the links: https://numpy.org/doc/stable/user/quickstart.html  and https://numpy.org/doc/stable/user/basics.broadcasting.html  before solving the exercises. "
   ]
  },
  {
   "cell_type": "code",
   "execution_count": 278,
   "id": "1f79e4a6",
   "metadata": {},
   "outputs": [],
   "source": [
    "import numpy as np "
   ]
  },
  {
   "cell_type": "markdown",
   "id": "7dae6889",
   "metadata": {},
   "source": [
    "### Print out the dimension (number of axes), shape, size and the datatype of the matrix A."
   ]
  },
  {
   "cell_type": "code",
   "execution_count": 279,
   "id": "7b3678cd",
   "metadata": {},
   "outputs": [
    {
     "data": {
      "text/plain": [
       "array([[ 1,  2,  3,  4,  5],\n",
       "       [ 6,  7,  8,  9, 10],\n",
       "       [11, 12, 13, 14, 15]])"
      ]
     },
     "execution_count": 279,
     "metadata": {},
     "output_type": "execute_result"
    }
   ],
   "source": [
    "A = np.arange(1, 16).reshape(3,5)\n",
    "A"
   ]
  },
  {
   "cell_type": "code",
   "execution_count": 280,
   "id": "31d39235",
   "metadata": {},
   "outputs": [
    {
     "name": "stdout",
     "output_type": "stream",
     "text": [
      "2\n",
      "(3, 5)\n",
      "15\n",
      "int32\n"
     ]
    }
   ],
   "source": [
    "print(A.ndim)\n",
    "print(A.shape)\n",
    "print(A.size)\n",
    "print(A.dtype)"
   ]
  },
  {
   "cell_type": "markdown",
   "id": "e56d2a96",
   "metadata": {},
   "source": [
    "### Do the following computations on the matrices B and C: \n",
    "* Elementwise subtraction. \n",
    "* Elementwise multiplication. \n",
    "* Matrix multiplication (by default you should use the @ operator)."
   ]
  },
  {
   "cell_type": "code",
   "execution_count": 281,
   "id": "a7053fbb",
   "metadata": {},
   "outputs": [
    {
     "name": "stdout",
     "output_type": "stream",
     "text": [
      "[[1 2 3]\n",
      " [4 5 6]\n",
      " [7 8 9]]\n",
      "[[2. 2. 2.]\n",
      " [2. 2. 2.]\n",
      " [2. 2. 2.]]\n"
     ]
    }
   ],
   "source": [
    "B = np.arange(1, 10).reshape(3, 3)\n",
    "C = np.ones((3, 3))*2\n",
    "\n",
    "print(B)\n",
    "\n",
    "print(C)"
   ]
  },
  {
   "cell_type": "code",
   "execution_count": null,
   "id": "3cd794ae",
   "metadata": {},
   "outputs": [],
   "source": []
  },
  {
   "cell_type": "markdown",
   "id": "96030d53",
   "metadata": {},
   "source": [
    "### Do the following calculations on the matrix:\n",
    "* Exponentiate each number elementwise (use the np.exp function).\n",
    "\n",
    "* Calculate the minimum value in the whole matrix. \n",
    "* Calculcate the minimum value in each row. \n",
    "* Calculcate the minimum value in each column. \n",
    "\n",
    "\n",
    "* Find the index value for the minimum value in the whole matrix (hint: use np.argmin).\n",
    "* Find the index value for the minimum value in each row (hint: use np.argmin).\n",
    "\n",
    "\n",
    "* Calculate the sum for all elements.\n",
    "* Calculate the mean for each column. \n",
    "* Calculate the median for each column. "
   ]
  },
  {
   "cell_type": "code",
   "execution_count": 282,
   "id": "f8a9166b",
   "metadata": {},
   "outputs": [
    {
     "name": "stdout",
     "output_type": "stream",
     "text": [
      "[[1 2 3]\n",
      " [4 5 6]\n",
      " [7 8 9]]\n"
     ]
    }
   ],
   "source": [
    "B = np.arange(1, 10).reshape(3, 3)\n",
    "print(B)"
   ]
  },
  {
   "cell_type": "code",
   "execution_count": 283,
   "id": "f03f24f7",
   "metadata": {},
   "outputs": [
    {
     "name": "stdout",
     "output_type": "stream",
     "text": [
      "the exp of B is :\n",
      "[[2.71828183e+00 7.38905610e+00 2.00855369e+01]\n",
      " [5.45981500e+01 1.48413159e+02 4.03428793e+02]\n",
      " [1.09663316e+03 2.98095799e+03 8.10308393e+03]]\n",
      "\n",
      "the minimum value is 1\n",
      "\n",
      "the minimum value in each row is [1 4 7]\n",
      "\n",
      "Calculcate the minimum value in each column is [1 2 3]\n",
      "\n",
      "the index value for the minimum value in the whole matrix is 0\n",
      "\n",
      "the index value for the minimum value in each row is [0 0 0]\n",
      "\n",
      "the sum for all elements is 45\n",
      "\n",
      "the mean for each column is [4. 5. 6.]\n",
      "\n",
      "the median for each column is [4. 5. 6.]\n",
      "\n"
     ]
    }
   ],
   "source": [
    "print(f'the exp of B is :\\n{np.exp(B)}') #Exponentiate each number elementwise\n",
    "print()\n",
    "print(f'the minimum value is {np.min(B)}') #Calculate the minimum value in the whole matrix. \n",
    "# eller man kan använda B.min()\n",
    "print()\n",
    "\n",
    "print(f'the minimum value in each row is {B.min(axis=1)}') # Calculcate the minimum value in each row. \n",
    "\n",
    "print()\n",
    "print(f'Calculcate the minimum value in each column is {B.min(axis=0)}') # Calculcate the minimum value in each column. \n",
    "\n",
    "print()\n",
    "print(f'the index value for the minimum value in the whole matrix is {np.argmin(B)}')\n",
    "\n",
    "print()\n",
    "print(f'the index value for the minimum value in each row is {np.argmin(B, axis=1)}')\n",
    "\n",
    "\n",
    "print()\n",
    "print(f'the sum for all elements is {B.sum()}') # Calculate the sum for all elements.\n",
    "\n",
    "print()\n",
    "print(f'the mean for each column is {B.mean(axis=0)}') # Calculate the mean for each column\n",
    "\n",
    "print()\n",
    "print(f'the median for each column is {np.median(B, axis=0)}') #Calculate the median for each column\n",
    "print()\n",
    "\n"
   ]
  },
  {
   "cell_type": "markdown",
   "id": "541eb7ba",
   "metadata": {},
   "source": [
    "### What does it mean when you provide fewer indices than axes when slicing? See example below."
   ]
  },
  {
   "cell_type": "code",
   "execution_count": 284,
   "id": "9c8abf56",
   "metadata": {},
   "outputs": [
    {
     "name": "stdout",
     "output_type": "stream",
     "text": [
      "[[ 1  2  3  4  5]\n",
      " [ 6  7  8  9 10]\n",
      " [11 12 13 14 15]]\n"
     ]
    }
   ],
   "source": [
    "print(A)"
   ]
  },
  {
   "cell_type": "code",
   "execution_count": 285,
   "id": "69415f7b",
   "metadata": {},
   "outputs": [
    {
     "data": {
      "text/plain": [
       "array([ 6,  7,  8,  9, 10])"
      ]
     },
     "execution_count": 285,
     "metadata": {},
     "output_type": "execute_result"
    }
   ],
   "source": [
    "A[1]"
   ]
  },
  {
   "cell_type": "markdown",
   "id": "6c53541b",
   "metadata": {},
   "source": [
    "**Answer:**"
   ]
  },
  {
   "cell_type": "code",
   "execution_count": 286,
   "id": "de01e120",
   "metadata": {},
   "outputs": [],
   "source": [
    "# When fewer indices are provided than the number of axes, the missing indices are considered complete slices:\n",
    "# like in this example its returnin the row with index 1"
   ]
  },
  {
   "cell_type": "markdown",
   "id": "6652d0c9",
   "metadata": {},
   "source": [
    "### Iterating over multidimensional arrays is done with respect to the first axis, so in the example below we iterate trough the rows. If you would like to iterate through the array *elementwise*, how would you do that?"
   ]
  },
  {
   "cell_type": "code",
   "execution_count": 287,
   "id": "9459864f",
   "metadata": {},
   "outputs": [
    {
     "data": {
      "text/plain": [
       "array([[ 1,  2,  3,  4,  5],\n",
       "       [ 6,  7,  8,  9, 10],\n",
       "       [11, 12, 13, 14, 15]])"
      ]
     },
     "execution_count": 287,
     "metadata": {},
     "output_type": "execute_result"
    }
   ],
   "source": [
    "A"
   ]
  },
  {
   "cell_type": "code",
   "execution_count": 288,
   "id": "a671bb5a",
   "metadata": {},
   "outputs": [
    {
     "name": "stdout",
     "output_type": "stream",
     "text": [
      "[1 2 3 4 5]\n",
      "[ 6  7  8  9 10]\n",
      "[11 12 13 14 15]\n"
     ]
    }
   ],
   "source": [
    "for i in A:\n",
    "    print(i)"
   ]
  },
  {
   "cell_type": "code",
   "execution_count": 289,
   "id": "f4e443a0",
   "metadata": {},
   "outputs": [
    {
     "name": "stdout",
     "output_type": "stream",
     "text": [
      "1\n",
      "2\n",
      "3\n",
      "4\n",
      "5\n",
      "6\n",
      "7\n",
      "8\n",
      "9\n",
      "10\n",
      "11\n",
      "12\n",
      "13\n",
      "14\n",
      "15\n"
     ]
    }
   ],
   "source": [
    "for element in A.flat:\n",
    "    print(element)"
   ]
  },
  {
   "cell_type": "markdown",
   "id": "608a2583",
   "metadata": {},
   "source": [
    "### Explain what the code below does. More specifically, b has three axes - what does this mean? "
   ]
  },
  {
   "cell_type": "code",
   "execution_count": 290,
   "id": "f8f9b26f",
   "metadata": {},
   "outputs": [
    {
     "name": "stdout",
     "output_type": "stream",
     "text": [
      "[ 0  1  2  3  4  5  6  7  8  9 10 11 12 13 14 15 16 17 18 19 20 21 22 23\n",
      " 24 25 26 27 28 29]\n",
      "\n",
      "[[[ 0  1  2  3  4]\n",
      "  [ 5  6  7  8  9]\n",
      "  [10 11 12 13 14]]\n",
      "\n",
      " [[15 16 17 18 19]\n",
      "  [20 21 22 23 24]\n",
      "  [25 26 27 28 29]]]\n"
     ]
    }
   ],
   "source": [
    "a = np.arange(30)\n",
    "b = a.reshape((2, 3, -1))\n",
    "print(a)\n",
    "print()\n",
    "\n",
    "print(b)"
   ]
  },
  {
   "cell_type": "code",
   "execution_count": 291,
   "id": "863a45df",
   "metadata": {},
   "outputs": [
    {
     "name": "stdout",
     "output_type": "stream",
     "text": [
      "[[[ 0  1  2  3  4]\n",
      "  [ 5  6  7  8  9]\n",
      "  [10 11 12 13 14]]\n",
      "\n",
      " [[15 16 17 18 19]\n",
      "  [20 21 22 23 24]\n",
      "  [25 26 27 28 29]]]\n"
     ]
    }
   ],
   "source": [
    "# If a dimension is given as -1 in a reshaping operation, the other dimensions are automatically calculated:\n",
    "# that is why in this example we gave -1 and its automatically calculate to 5 \n",
    "# we could have give it (2,3,5) it would be the same result as (2,3,-1)\n",
    "# now b is a two 2 dimensional arrays with 3 rows and 5 colums each.\n",
    "b = a.reshape((2, 3, 5))\n",
    "\n",
    "print(b)"
   ]
  },
  {
   "cell_type": "markdown",
   "id": "ab5933d5",
   "metadata": {},
   "source": [
    "### Broadcasting\n",
    "**Read the following link about broadcasting: https://numpy.org/doc/stable/user/basics.broadcasting.html#basics-broadcasting**"
   ]
  },
  {
   "cell_type": "markdown",
   "id": "039805ba",
   "metadata": {},
   "source": [
    "# Remark on Broadcasting when doing Linear Algebra calculations in Python. "
   ]
  },
  {
   "cell_type": "markdown",
   "id": "c4bcc147",
   "metadata": {},
   "source": [
    "### From the mathematical rules of matrix addition, the operation below (m1 + m2) does not make sense. The reason is that matrix addition requires two matrices of the same size. In Python however, it works due to broadcasting rules in NumPy. So you must be careful when doing Linear Algebra calculations in Python since they do not follow the \"mathematical rules\". This can however easily be handled by doing some simple programming, for example validating that two matrices have the same shape is easy if you for instance want to add two matrices. "
   ]
  },
  {
   "cell_type": "code",
   "execution_count": 292,
   "id": "1fd46778",
   "metadata": {},
   "outputs": [
    {
     "name": "stdout",
     "output_type": "stream",
     "text": [
      "[[2 3]\n",
      " [4 5]]\n"
     ]
    }
   ],
   "source": [
    "m1 = np.array([[1, 2], [3, 4]])\n",
    "m2 = np.array([1, 1])\n",
    "print(m1 + m2)\n"
   ]
  },
  {
   "cell_type": "markdown",
   "id": "047d6576",
   "metadata": {},
   "source": [
    "### The example below would also not be allowed if following the \"mathematical rules\" in Linear Algebra. But it works due to broadcasting in NumPy. "
   ]
  },
  {
   "cell_type": "code",
   "execution_count": 293,
   "id": "5e6ef2e4",
   "metadata": {},
   "outputs": [
    {
     "name": "stdout",
     "output_type": "stream",
     "text": [
      "[2 3 4]\n"
     ]
    }
   ],
   "source": [
    "v1 = np.array([1, 2, 3])\n",
    "print(v1 + 1)\n",
    "# the scalar 1 is stretched to become an array of same shape as v1\n",
    "# the shapes are compatible for element-by-element addition"
   ]
  },
  {
   "cell_type": "code",
   "execution_count": 294,
   "id": "e2cbae26",
   "metadata": {},
   "outputs": [
    {
     "name": "stdout",
     "output_type": "stream",
     "text": [
      "[[1 2]\n",
      " [3 4]]\n",
      "[2 2]\n"
     ]
    }
   ],
   "source": [
    "A = np.arange(1, 5).reshape(2,2)\n",
    "print(A)\n",
    "\n",
    "b = np.array([2, 2])\n",
    "print(b)\n",
    "#  one dimensional array added to a two dimensional array results in broadcasting if number\n",
    "# of 1-d array elements matches the number of 2-d array columns. which is in thiscase 2 elements in b = 2 columns in A"
   ]
  },
  {
   "cell_type": "markdown",
   "id": "722fd5cd",
   "metadata": {},
   "source": [
    "# Vector- and matrix algebra Exercises"
   ]
  },
  {
   "cell_type": "markdown",
   "id": "b63a3081-d976-4d9f-bfd0-a63917e79f7d",
   "metadata": {},
   "source": [
    "**Now you are going to create a function that can be reused every time you add or multiply matrices. The function is created so that we do the addition and multiplication according to the rules of vector- and matrix algebra.**\n",
    "\n",
    "**Create a function \"add_mult_matrices\" that takes two matrices as input arguments (validate that the input are of the type numpy.ndarray by using the isinstance function), a third argument that is either 'add' or 'multiply' that specifies if you want to add or multiply the matrices (validate that the third argument is either 'add' or 'multiply'). When doing matrix addition, validate that the matrices have the same size. When doing matrix multiplication, validate that the sizes conform (i.e. number of columns in the first matrix is equal to the number of rows in the second matrix).**"
   ]
  },
  {
   "cell_type": "code",
   "execution_count": 295,
   "id": "3506f977-ac0a-473f-85bc-eec9f35dc498",
   "metadata": {},
   "outputs": [],
   "source": [
    "# a function to add or multiply matriser according to linear algebra rules \n",
    "import numpy as np\n",
    "\n",
    "\n",
    "def add_multiply_matrices(matrise1 , matrise2 , operation):\n",
    "     \n",
    "     m1 = matrise1.shape[1]\n",
    "     m02 = matrise2.shape[0]\n",
    "     \n",
    "    \n",
    "     if  isinstance(matrise1 , np.ndarray) and isinstance(matrise2 , np.ndarray):\n",
    "        \n",
    "        if operation == 'multiply' and m1 != m02 :\n",
    "           return 'Odefinerat pga olike dimensioner på matriser'\n",
    "        elif operation == 'multiply':\n",
    "                return matrise1 @ matrise2\n",
    "        \n",
    "        elif operation == 'add' and matrise1.shape != matrise2.shape: \n",
    "            return 'Odefinerat pga olike dimensioner på matriser'\n",
    "        elif operation == 'add':\n",
    "            return matrise1 + matrise2\n",
    "        \n",
    "        elif operation != 'multiply' or operation != 'add':\n",
    "             return 'Choose either add or multiply.'\n",
    "     else:\n",
    "         return 'Odefinerat pga olike dimensioner på matriser'\n",
    "     "
   ]
  },
  {
   "cell_type": "markdown",
   "id": "8dad82d0-2359-4dff-8f5b-a57d3e34103c",
   "metadata": {},
   "source": [
    "### Solve all the exercises in chapter 10.1 in the book \"Matematik för yrkeshögskolan\". "
   ]
  },
  {
   "cell_type": "code",
   "execution_count": 296,
   "id": "89df88af-3668-4d98-a0a4-e6d92eea0f89",
   "metadata": {},
   "outputs": [
    {
     "name": "stdout",
     "output_type": "stream",
     "text": [
      "[4 3]\n",
      "\n",
      "1\n",
      "\n",
      "[20 15]\n",
      "[12  9]\n",
      "[32 24]\n",
      "[32 24]\n",
      "[12  9]\n",
      "[[4]\n",
      " [3]]\n",
      "[[8 7]\n",
      " [7 6]]\n",
      "\n",
      "[[ 3]\n",
      " [ 7]\n",
      " [ 0]\n",
      " [11]]\n",
      "(4, 1)\n",
      "\n",
      "[[ 6]\n",
      " [14]\n",
      " [ 0]\n",
      " [22]]\n",
      "\n",
      "[[21]\n",
      " [49]\n",
      " [ 0]\n",
      " [77]]\n",
      "\n",
      "[[ 6]\n",
      " [14]\n",
      " [ 0]\n",
      " [22]]\n",
      "\n",
      "[[ 3  7  0 11]]\n",
      "\n",
      "13.379088160259652\n",
      "\n",
      "\n",
      "[4 3 1 5]\n",
      "[2 3 1 1]\n",
      "\n",
      "\n",
      "3.2684450823354334\n"
     ]
    }
   ],
   "source": [
    "#jag hade löst de inna jag visste att vi måste definera functionen det är därfor jag har inte använt den i detta .\n",
    "# men det gjorde jag i nästa \n",
    "import numpy as np \n",
    "x = np.array([4,3])\n",
    "print(x)\n",
    "print()\n",
    "# a\n",
    "print(x.ndim)\n",
    "print()\n",
    "\n",
    "#b\n",
    "print(x*5)\n",
    "#c\n",
    "print(x*3)\n",
    "#d\n",
    "print(x*5 + x*3)\n",
    "#e\n",
    "print(x*8)\n",
    "#f\n",
    "print(x*4 - x)\n",
    "#g\n",
    "g = (x.reshape(2,1))\n",
    "print(g)\n",
    "\n",
    "#h den här odefinerat due to mathematical rules\" in Linear Algebra. But it works due to broadcasting in NumPy. \n",
    "print(g + x)\n",
    "#i\n",
    "y = np.linalg.norm(x)\n",
    "y\n",
    "print()\n",
    "v = np.array([3,7,0,11]).reshape(4,1)\n",
    "# 10.1.2\n",
    "print(v)\n",
    "print(v.shape)\n",
    "print()\n",
    "print(v*2)\n",
    "print()\n",
    "print(v*5 +v*2)\n",
    "print()\n",
    "print(v*4 -v*2)\n",
    "print()\n",
    "print(v.reshape(1,4))\n",
    "print()\n",
    "Z = np.linalg.norm(v)\n",
    "print(Z)\n",
    "print()\n",
    "print()\n",
    "#10.1.3\n",
    "v1 = np.array([4,3,1,5])\n",
    "v2 = np.array([2,3,1,1])\n",
    "print(v1)\n",
    "print(v2)\n",
    "\n",
    "#a\n",
    "print()\n",
    "V1 = np.linalg.norm(v1)\n",
    "V2 = np.linalg.norm(v2)\n",
    "print()\n",
    "#b\n",
    "V3 = V1 - V2\n",
    "print(V3)\n",
    "\n"
   ]
  },
  {
   "cell_type": "markdown",
   "id": "75c98984-1f88-4df1-b850-d2466de444a5",
   "metadata": {},
   "source": [
    "### Solve all the exercises, except 10.2.4, in chapter 10.2 in the book \"Matematik för yrkeshögskolan\". "
   ]
  },
  {
   "cell_type": "code",
   "execution_count": 297,
   "id": "65371610-16e1-48b2-b7fb-65e49002608a",
   "metadata": {},
   "outputs": [
    {
     "name": "stdout",
     "output_type": "stream",
     "text": [
      "A\n",
      "[[ 2  1 -1]\n",
      " [ 1 -1  1]]\n",
      "B\n",
      "[[ 4 -2  1]\n",
      " [ 2 -4 -2]]\n",
      "C\n",
      "[[1 2]\n",
      " [2 1]]\n",
      "D\n",
      "[[3 4]\n",
      " [4 3]]\n",
      "E\n",
      "[[1]\n",
      " [2]]\n",
      "I\n",
      "[[1 0]\n",
      " [0 1]]\n",
      "\n",
      "\n",
      "\n",
      "a)A*2\n",
      "[[ 4  2 -2]\n",
      " [ 2 -2  2]]\n",
      "\n",
      "b)B - 2*A\n",
      "[[ 0 -4  3]\n",
      " [ 0 -2 -4]]\n",
      "\n",
      "c)3C -2E\n",
      "Odefinerat pga olike dimensioner på matriser\n",
      "\n",
      "d)2D -3C\n",
      "[[3 2]\n",
      " [2 3]]\n",
      "\n",
      "e)\n",
      "[[ 9 12]\n",
      " [12  9]]\n",
      "\n",
      "f)\n",
      "[[-4 -4]\n",
      " [-4 -4]]\n",
      "\n",
      "g)\n",
      "Odefinerat pga olike dimensioner på matriser\n",
      "\n",
      "h)\n",
      "Odefinerat pga olike dimensioner på matriser\n",
      "\n",
      "i)\n",
      "[[11 10]\n",
      " [10 11]]\n",
      "\n",
      "j)\n",
      "[[  8 -10  -3]\n",
      " [ 10  -8   0]]\n",
      "\n",
      "k)\n",
      "[[1 2]\n",
      " [2 1]]\n",
      "\n",
      "l)\n",
      "[[5 2]\n",
      " [7 4]]\n",
      "\n"
     ]
    }
   ],
   "source": [
    "#10.2.1\n",
    "print(\"A\")\n",
    "A = np.array([2,1,-1,1,-1,1]).reshape(2,3)\n",
    "print(A)\n",
    "print(\"B\")\n",
    "B = np.array([4,-2,1,2,-4,-2]).reshape(2,3)\n",
    "print(B)\n",
    "print(\"C\")\n",
    "C = np.array([1,2,2,1]).reshape(2,2)\n",
    "print(C)\n",
    "print(\"D\")\n",
    "D = np.array([3,4,4,3]).reshape(2,2)\n",
    "print(D)\n",
    "print(\"E\")\n",
    "E = np.array([1,2]).reshape(2,1)\n",
    "print(E)\n",
    "print(\"I\")\n",
    "I = np.array([1,0,0,1]).reshape(2,2)\n",
    "print(I)\n",
    "print()\n",
    "print()\n",
    "print()\n",
    "#a\n",
    "print(\"a)A*2\")\n",
    "print(A*2)\n",
    "print(\"\\nb)B - 2*A\")\n",
    "#b\n",
    "print(add_multiply_matrices(B ,- A*2,\"add\"))\n",
    "print(\"\\nc)3C -2E\")\n",
    "#c\n",
    "print(add_multiply_matrices(C*3, - E*2,\"add\"))\n",
    "print(\"\\nd)2D -3C\")\n",
    "#d\n",
    "print(D*2 - C*3)\n",
    "print(\"\\ne)\")\n",
    "#e\n",
    "print(add_multiply_matrices(D.T, D*2,\"add\"))\n",
    "print(\"\\nf)\")\n",
    "#f\n",
    "print(add_multiply_matrices(C.T*2 ,- D.T*2,\"add\"))\n",
    "print(\"\\ng)\")\n",
    "#g\n",
    "print(add_multiply_matrices(A.T,-B,\"add\"))\n",
    "\n",
    "print(\"\\nh)\")\n",
    "#h\n",
    "print(add_multiply_matrices(A ,C,'multiply'))\n",
    "print(\"\\ni)\")\n",
    "#i\n",
    "print(add_multiply_matrices(C ,D,'multiply'))\n",
    "print(\"\\nj)\")\n",
    "#j\n",
    "print(add_multiply_matrices(C ,B,'multiply'))\n",
    "print(\"\\nk)\")\n",
    "#k\n",
    "print(add_multiply_matrices(C ,I,'multiply'))\n",
    "print(\"\\nl)\")\n",
    "#l\n",
    "print(add_multiply_matrices(A ,B.T,'multiply'))\n",
    "print()"
   ]
  },
  {
   "cell_type": "code",
   "execution_count": 298,
   "id": "3ab6352c",
   "metadata": {},
   "outputs": [
    {
     "name": "stdout",
     "output_type": "stream",
     "text": [
      "[[29 26]\n",
      " [26 42]]\n"
     ]
    }
   ],
   "source": [
    "#10.2.2\n",
    "A = np.array([2,3,4,5,4,1]).reshape(2,3)\n",
    "A\n",
    "print(add_multiply_matrices(A,A.T,\"multiply\"))"
   ]
  },
  {
   "cell_type": "code",
   "execution_count": 299,
   "id": "292dedad",
   "metadata": {},
   "outputs": [
    {
     "name": "stdout",
     "output_type": "stream",
     "text": [
      "A\n",
      "[[1 2]\n",
      " [2 4]]\n",
      "B\n",
      "[[2 1]\n",
      " [1 3]]\n",
      "C\n",
      "[[4 3]\n",
      " [0 2]]\n",
      "\n",
      "[[ 4  7]\n",
      " [ 8 14]]\n",
      "[[ 4  7]\n",
      " [ 8 14]]\n",
      "X = Y is True\n"
     ]
    }
   ],
   "source": [
    "#10.2.3\n",
    "print(\"A\")\n",
    "A = np.array([1,2,2,4]).reshape(2,2)\n",
    "print(A)\n",
    "print(\"B\")\n",
    "B = np.array([2,1,1,3]).reshape(2,2)\n",
    "print(B)\n",
    "print(\"C\")\n",
    "C = np.array([4,3,0,2]).reshape(2,2)\n",
    "print(C)\n",
    "print()\n",
    "X = print(add_multiply_matrices(A,B,\"multiply\"))\n",
    "\n",
    "Y = print(add_multiply_matrices(A,C,\"multiply\"))\n",
    "print(f\"X = Y is True\"if X == Y else False)\n"
   ]
  },
  {
   "cell_type": "markdown",
   "id": "6a4a524f",
   "metadata": {},
   "source": [
    "### Copies and Views\n",
    "Read the following link: https://numpy.org/doc/stable/user/basics.copies.html"
   ]
  },
  {
   "cell_type": "markdown",
   "id": "6cbbeaf7",
   "metadata": {},
   "source": [
    "**Basic indexing creates a view, How can you check if v1 and v2 is a view or copy? If you change the last element in v2 to 123, will the last element in v1 be changed? Why?**"
   ]
  },
  {
   "cell_type": "code",
   "execution_count": 300,
   "id": "5b9ef4df",
   "metadata": {},
   "outputs": [
    {
     "name": "stdout",
     "output_type": "stream",
     "text": [
      "[0 1 2 3]\n",
      "[2 3]\n"
     ]
    }
   ],
   "source": [
    "v1 = np.arange(4)\n",
    "v2 = v1[-2:]\n",
    "print(v1)\n",
    "print(v2)"
   ]
  },
  {
   "cell_type": "code",
   "execution_count": 301,
   "id": "d2440489",
   "metadata": {},
   "outputs": [
    {
     "name": "stdout",
     "output_type": "stream",
     "text": [
      "None\n",
      "[0 1 2 3]\n"
     ]
    }
   ],
   "source": [
    "# The base attribute of a view returns the original array while it returns None for a copy.\n",
    "print(v1.base)\n",
    "print(v2.base)"
   ]
  },
  {
   "cell_type": "code",
   "execution_count": 302,
   "id": "c8752807",
   "metadata": {},
   "outputs": [
    {
     "name": "stdout",
     "output_type": "stream",
     "text": [
      "[  0   1   2 123]\n",
      "[  2 123]\n"
     ]
    }
   ],
   "source": [
    "# The last element in v1 will be changed aswell since v2 is a view, meaning they share the same data buffer.\n",
    "v2[-1] = 123\n",
    "print(v1)\n",
    "print(v2)"
   ]
  },
  {
   "cell_type": "code",
   "execution_count": 303,
   "id": "3dd68221",
   "metadata": {},
   "outputs": [],
   "source": [
    "##\n"
   ]
  },
  {
   "cell_type": "code",
   "execution_count": null,
   "id": "c1171237",
   "metadata": {},
   "outputs": [],
   "source": []
  }
 ],
 "metadata": {
  "kernelspec": {
   "display_name": "base",
   "language": "python",
   "name": "python3"
  },
  "language_info": {
   "codemirror_mode": {
    "name": "ipython",
    "version": 3
   },
   "file_extension": ".py",
   "mimetype": "text/x-python",
   "name": "python",
   "nbconvert_exporter": "python",
   "pygments_lexer": "ipython3",
   "version": "3.12.4"
  }
 },
 "nbformat": 4,
 "nbformat_minor": 5
}
